{
 "cells": [
  {
   "cell_type": "markdown",
   "id": "0abc8c1e-da48-4042-a5c1-eb129839b545",
   "metadata": {},
   "source": [
    "# Data Science Tools and Ecosystem"
   ]
  },
  {
   "cell_type": "markdown",
   "id": "1e8768de-f158-44c0-9598-18c6a173e88f",
   "metadata": {},
   "source": [
    "In this notebook, Data Science Tools and Ecosystem are summarized."
   ]
  },
  {
   "cell_type": "markdown",
   "id": "884b1e52-05a9-46ce-b220-7398d7a649f3",
   "metadata": {},
   "source": [
    "**Objectives**:\n",
    "\n",
    "* Popular languages\n",
    "* Commonly used libraries\n",
    "* Data Science tools\n",
    "* Arithmetic expressions"
   ]
  },
  {
   "cell_type": "markdown",
   "id": "a641bcff-2c97-4ab1-aa37-63912c9d3989",
   "metadata": {},
   "source": [
    "Some of the popular languages that Data Scientists use are:\n",
    "1. Python\n",
    "2. R\n",
    "3. Julia"
   ]
  },
  {
   "cell_type": "markdown",
   "id": "7b390130-1522-4c68-83bc-cc3150147abc",
   "metadata": {},
   "source": [
    "Some of the commonly used libraries used by Data Scientists include:\n",
    "1. Pandas\n",
    "2. Numpy\n",
    "3. Matplotlib\n",
    "4. SciPy\n",
    "5. Pytorch"
   ]
  },
  {
   "cell_type": "markdown",
   "id": "e542dae2-a1d8-406d-91cf-d6cb126c2081",
   "metadata": {},
   "source": [
    "## Data Science Tools\n",
    "\n",
    "| Tools            |\n",
    "|:----------------:|\n",
    "| Jupyter Notebook |\n",
    "| Apache Spark     |\n",
    "| Scikit-learn     |\n",
    "| Minimum          |\n",
    "| Maximum          |"
   ]
  },
  {
   "cell_type": "markdown",
   "id": "4bd1d98f-3557-48cf-bdd9-8593e381c2d4",
   "metadata": {},
   "source": [
    "### Below are a few examples of evaluating arithmetic expressions in Python"
   ]
  },
  {
   "cell_type": "code",
   "execution_count": 3,
   "id": "cce2bd91-c415-455c-99ec-a957555ad878",
   "metadata": {},
   "outputs": [
    {
     "data": {
      "text/plain": [
       "17"
      ]
     },
     "execution_count": 3,
     "metadata": {},
     "output_type": "execute_result"
    }
   ],
   "source": [
    "(3*4)+5 # This a simple arithmetic expression to mutiply then add integers"
   ]
  },
  {
   "cell_type": "code",
   "execution_count": 4,
   "id": "0995233b-b012-46c6-a067-456711d67aef",
   "metadata": {},
   "outputs": [
    {
     "data": {
      "text/plain": [
       "3.3333333333333335"
      ]
     },
     "execution_count": 4,
     "metadata": {},
     "output_type": "execute_result"
    }
   ],
   "source": [
    "200/60# This will convert 200 minutes to hours by diving by 60"
   ]
  },
  {
   "cell_type": "markdown",
   "id": "72076a9d-53fd-4b61-8164-b6cd387c3db7",
   "metadata": {},
   "source": [
    "## Author\n",
    "\n",
    "Edu Vadillo"
   ]
  }
 ],
 "metadata": {
  "kernelspec": {
   "display_name": "Python 3 (ipykernel)",
   "language": "python",
   "name": "python3"
  },
  "language_info": {
   "codemirror_mode": {
    "name": "ipython",
    "version": 3
   },
   "file_extension": ".py",
   "mimetype": "text/x-python",
   "name": "python",
   "nbconvert_exporter": "python",
   "pygments_lexer": "ipython3",
   "version": "3.12.2"
  }
 },
 "nbformat": 4,
 "nbformat_minor": 5
}
